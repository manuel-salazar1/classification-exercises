{
 "cells": [
  {
   "cell_type": "code",
   "execution_count": 1,
   "id": "7ed6ecdc-7196-4c4b-a9ac-cd0de158aeb1",
   "metadata": {},
   "outputs": [],
   "source": [
    "import pandas as pd\n",
    "import numpy as np\n",
    "\n",
    "import matplotlib.pyplot as plt\n",
    "import seaborn as sns\n",
    "\n",
    "from sklearn.model_selection import train_test_split\n",
    "from sklearn.neighbors import KNeighborsClassifier\n",
    "from sklearn.metrics import classification_report, confusion_matrix, plot_confusion_matrix\n",
    "\n",
    "from pydataset import data"
   ]
  },
  {
   "cell_type": "code",
   "execution_count": 2,
   "id": "a70e5aae-f5bf-4a4b-98f5-0ba6ad1aaf81",
   "metadata": {},
   "outputs": [],
   "source": [
    "import acquire\n",
    "import prepare"
   ]
  },
  {
   "cell_type": "code",
   "execution_count": 3,
   "id": "1e761248-2bd1-4fca-aac3-394dd37ce788",
   "metadata": {},
   "outputs": [],
   "source": [
    "import warnings\n",
    "warnings.filterwarnings(\"ignore\")"
   ]
  },
  {
   "cell_type": "markdown",
   "id": "0fe9edd3-7827-4f31-91f6-cc680b62d336",
   "metadata": {},
   "source": [
    "# Exercises"
   ]
  },
  {
   "cell_type": "markdown",
   "id": "e4175c6d-bd71-4d96-ba72-e45d00a533fe",
   "metadata": {
    "tags": []
   },
   "source": [
    "#### 1. Fit a K-Nearest Neighbors classifier to your training sample and transform (i.e. make predictions on the training sample)"
   ]
  },
  {
   "cell_type": "code",
   "execution_count": 16,
   "id": "70ba705c-76db-46b1-b02c-824e4de24c01",
   "metadata": {},
   "outputs": [
    {
     "name": "stdout",
     "output_type": "stream",
     "text": [
      "Found CSV\n"
     ]
    }
   ],
   "source": [
    "df = acquire.get_titanic_data()"
   ]
  },
  {
   "cell_type": "code",
   "execution_count": 17,
   "id": "c2ffc120-2e8f-4790-9703-cd680d7743bd",
   "metadata": {},
   "outputs": [],
   "source": [
    "df = prepare.prep_titanic(df)"
   ]
  },
  {
   "cell_type": "code",
   "execution_count": 18,
   "id": "547fdeac-1f5b-4b48-abf7-3beeac225709",
   "metadata": {},
   "outputs": [],
   "source": [
    "train, validate, test = prepare.split_function(df, 'survived')"
   ]
  },
  {
   "cell_type": "code",
   "execution_count": 19,
   "id": "9810cf3e-e9bd-41c1-8aa0-1053353a1e9e",
   "metadata": {},
   "outputs": [
    {
     "name": "stdout",
     "output_type": "stream",
     "text": [
      "(534, 12)\n",
      "(178, 12)\n",
      "(179, 12)\n"
     ]
    }
   ],
   "source": [
    "print(train.shape)\n",
    "print(validate.shape)\n",
    "print(test.shape)"
   ]
  },
  {
   "cell_type": "code",
   "execution_count": null,
   "id": "958e6475-9f98-4513-8fa9-8b68d2528e3c",
   "metadata": {},
   "outputs": [],
   "source": []
  },
  {
   "cell_type": "code",
   "execution_count": 8,
   "id": "bd918084-31c9-41c2-8aa9-8c823d538097",
   "metadata": {},
   "outputs": [
    {
     "name": "stdout",
     "output_type": "stream",
     "text": [
      "Found CSV\n"
     ]
    }
   ],
   "source": [
    "df = acquire.get_iris_data()"
   ]
  },
  {
   "cell_type": "code",
   "execution_count": 9,
   "id": "52955e2a-bbba-4407-8054-2590679b1210",
   "metadata": {},
   "outputs": [],
   "source": [
    "df = prepare.prep_iris(df)"
   ]
  },
  {
   "cell_type": "code",
   "execution_count": 10,
   "id": "352a7bb1-800f-4223-9d53-2b793b49ebcf",
   "metadata": {},
   "outputs": [],
   "source": [
    "train, validate, test = prepare.split_function(df, 'species')"
   ]
  },
  {
   "cell_type": "markdown",
   "id": "88159999-5d33-48b2-893c-f70516945d62",
   "metadata": {},
   "source": [
    "#### 2. Evaluate your results using the model score, confusion matrix, and classification report.\n"
   ]
  },
  {
   "cell_type": "code",
   "execution_count": 27,
   "id": "73525e63-6479-4e9c-a6d3-4d7cb0df4d47",
   "metadata": {},
   "outputs": [
    {
     "data": {
      "text/plain": [
       "0.8146067415730337"
      ]
     },
     "execution_count": 27,
     "metadata": {},
     "output_type": "execute_result"
    }
   ],
   "source": [
    "knn.score(X_train, y_train)"
   ]
  },
  {
   "cell_type": "code",
   "execution_count": 28,
   "id": "4f2c5b4e-eca5-47a3-bbfa-b3f4ff41f2b3",
   "metadata": {},
   "outputs": [
    {
     "data": {
      "text/plain": [
       "array([[280,  49],\n",
       "       [ 50, 155]])"
      ]
     },
     "execution_count": 28,
     "metadata": {},
     "output_type": "execute_result"
    }
   ],
   "source": [
    "confusion_matrix(y_train, y_pred)"
   ]
  },
  {
   "cell_type": "code",
   "execution_count": 29,
   "id": "45532082-9658-49f2-9034-846c4606edfc",
   "metadata": {},
   "outputs": [
    {
     "name": "stdout",
     "output_type": "stream",
     "text": [
      "              precision    recall  f1-score   support\n",
      "\n",
      "           0       0.85      0.85      0.85       329\n",
      "           1       0.76      0.76      0.76       205\n",
      "\n",
      "    accuracy                           0.81       534\n",
      "   macro avg       0.80      0.80      0.80       534\n",
      "weighted avg       0.81      0.81      0.81       534\n",
      "\n"
     ]
    }
   ],
   "source": [
    "print(classification_report(y_train, y_pred))"
   ]
  },
  {
   "cell_type": "markdown",
   "id": "f07fad98-fc36-452f-b57a-4518606275a9",
   "metadata": {},
   "source": [
    "\n",
    "#### 3. Print and clearly label the following: Accuracy, true positive rate, false positive rate, true negative rate, false negative rate, precision, recall, f1-score, and support.\n"
   ]
  },
  {
   "cell_type": "code",
   "execution_count": 23,
   "id": "28d749b4-aac2-4e15-8eba-badb27a3270b",
   "metadata": {},
   "outputs": [],
   "source": [
    "knn = KNeighborsClassifier(n_neighbors=5, weights='uniform')\n",
    "knn.fit(X_train, y_train)\n",
    "y_pred = knn.predict(X_train)"
   ]
  },
  {
   "cell_type": "code",
   "execution_count": 24,
   "id": "2a476cae-275f-459a-b1e1-b3ea28f291e1",
   "metadata": {},
   "outputs": [
    {
     "data": {
      "text/plain": [
       "array([[280,  49],\n",
       "       [ 50, 155]])"
      ]
     },
     "execution_count": 24,
     "metadata": {},
     "output_type": "execute_result"
    }
   ],
   "source": [
    "confusion_matrix(y_train, y_pred)"
   ]
  },
  {
   "cell_type": "code",
   "execution_count": 26,
   "id": "fcce38d4-8282-4eff-bc1b-578d87ba535b",
   "metadata": {},
   "outputs": [],
   "source": [
    "tn, fp, fn, tp = confusion_matrix(y_train, y_pred).ravel()\n",
    "accuracy = (tp+tn) / (tp+tn+fp+fn)\n",
    "\n",
    "true_positive_rate = (tp)/(tp+fn)\n",
    "false_positive_rate = (fp)/ (fp+tn)\n",
    "true_negative_rate = (tn)/(fp+tn)\n",
    "false_negative_rate = (fn)/(tp+fn)\n",
    "\n",
    "precision = (tp)/(tp+fp)\n",
    "recall = (tp)/(tp+fn)\n",
    "f1_score = 2*(precision*recall)/(precision+recall)\n",
    "\n",
    "support_pos = tp+fn\n",
    "support_neg = tn+fp\n",
    "\n"
   ]
  },
  {
   "cell_type": "markdown",
   "id": "58d625dd-7a7f-49d9-bce4-f716a4a17ac3",
   "metadata": {},
   "source": [
    "\n",
    "#### 4. Run through steps 1-3 setting k to 10\n",
    "\n"
   ]
  },
  {
   "cell_type": "code",
   "execution_count": null,
   "id": "0383d1e2-bdc5-4df3-98f4-d3c415944c2a",
   "metadata": {},
   "outputs": [],
   "source": [
    "# below"
   ]
  },
  {
   "cell_type": "markdown",
   "id": "b1c536b2-cfe9-48e4-80a8-7caed6599bd1",
   "metadata": {},
   "source": [
    "#### 5. Run through steps 1-3 setting k to 20\n"
   ]
  },
  {
   "cell_type": "code",
   "execution_count": null,
   "id": "77c580c4-430e-40e3-bfa1-c3f2424b2677",
   "metadata": {},
   "outputs": [],
   "source": [
    "# below"
   ]
  },
  {
   "cell_type": "markdown",
   "id": "e60a742e-f126-4c9b-a974-e794b0232d99",
   "metadata": {},
   "source": [
    "\n",
    "#### 6. What are the differences in the evaluation metrics? Which performs better on your in-sample data? Why?\n"
   ]
  },
  {
   "cell_type": "code",
   "execution_count": null,
   "id": "8028e938-e9b2-4ef6-ac59-c8b6ee607dd4",
   "metadata": {},
   "outputs": [],
   "source": []
  },
  {
   "cell_type": "markdown",
   "id": "c07c9d1e-1de0-4fcb-b930-4e8a11e16cc0",
   "metadata": {},
   "source": [
    "\n",
    "#### 7. Which model performs best on our out-of-sample data from validate?"
   ]
  },
  {
   "cell_type": "code",
   "execution_count": 15,
   "id": "1c105edd-8275-4e8c-95ec-61709d9379c1",
   "metadata": {},
   "outputs": [
    {
     "data": {
      "text/html": [
       "<div>\n",
       "<style scoped>\n",
       "    .dataframe tbody tr th:only-of-type {\n",
       "        vertical-align: middle;\n",
       "    }\n",
       "\n",
       "    .dataframe tbody tr th {\n",
       "        vertical-align: top;\n",
       "    }\n",
       "\n",
       "    .dataframe thead th {\n",
       "        text-align: right;\n",
       "    }\n",
       "</style>\n",
       "<table border=\"1\" class=\"dataframe\">\n",
       "  <thead>\n",
       "    <tr style=\"text-align: right;\">\n",
       "      <th></th>\n",
       "      <th>species</th>\n",
       "      <th>sepal_length</th>\n",
       "      <th>sepal_width</th>\n",
       "      <th>petal_length</th>\n",
       "      <th>petal_width</th>\n",
       "      <th>species_versicolor</th>\n",
       "      <th>species_virginica</th>\n",
       "    </tr>\n",
       "  </thead>\n",
       "  <tbody>\n",
       "    <tr>\n",
       "      <th>70</th>\n",
       "      <td>versicolor</td>\n",
       "      <td>5.9</td>\n",
       "      <td>3.2</td>\n",
       "      <td>4.8</td>\n",
       "      <td>1.8</td>\n",
       "      <td>1</td>\n",
       "      <td>0</td>\n",
       "    </tr>\n",
       "    <tr>\n",
       "      <th>123</th>\n",
       "      <td>virginica</td>\n",
       "      <td>6.3</td>\n",
       "      <td>2.7</td>\n",
       "      <td>4.9</td>\n",
       "      <td>1.8</td>\n",
       "      <td>0</td>\n",
       "      <td>1</td>\n",
       "    </tr>\n",
       "    <tr>\n",
       "      <th>87</th>\n",
       "      <td>versicolor</td>\n",
       "      <td>6.3</td>\n",
       "      <td>2.3</td>\n",
       "      <td>4.4</td>\n",
       "      <td>1.3</td>\n",
       "      <td>1</td>\n",
       "      <td>0</td>\n",
       "    </tr>\n",
       "    <tr>\n",
       "      <th>3</th>\n",
       "      <td>setosa</td>\n",
       "      <td>4.6</td>\n",
       "      <td>3.1</td>\n",
       "      <td>1.5</td>\n",
       "      <td>0.2</td>\n",
       "      <td>0</td>\n",
       "      <td>0</td>\n",
       "    </tr>\n",
       "    <tr>\n",
       "      <th>15</th>\n",
       "      <td>setosa</td>\n",
       "      <td>5.7</td>\n",
       "      <td>4.4</td>\n",
       "      <td>1.5</td>\n",
       "      <td>0.4</td>\n",
       "      <td>0</td>\n",
       "      <td>0</td>\n",
       "    </tr>\n",
       "  </tbody>\n",
       "</table>\n",
       "</div>"
      ],
      "text/plain": [
       "        species  sepal_length  sepal_width  petal_length  petal_width  \\\n",
       "70   versicolor           5.9          3.2           4.8          1.8   \n",
       "123   virginica           6.3          2.7           4.9          1.8   \n",
       "87   versicolor           6.3          2.3           4.4          1.3   \n",
       "3        setosa           4.6          3.1           1.5          0.2   \n",
       "15       setosa           5.7          4.4           1.5          0.4   \n",
       "\n",
       "     species_versicolor  species_virginica  \n",
       "70                    1                  0  \n",
       "123                   0                  1  \n",
       "87                    1                  0  \n",
       "3                     0                  0  \n",
       "15                    0                  0  "
      ]
     },
     "execution_count": 15,
     "metadata": {},
     "output_type": "execute_result"
    }
   ],
   "source": [
    "train.head()"
   ]
  },
  {
   "cell_type": "code",
   "execution_count": 11,
   "id": "281a8bd7-fa60-4649-9368-f205e916e3b5",
   "metadata": {},
   "outputs": [],
   "source": [
    "def xy_train_val(train, validate, test, target_variable, drop_cols):\n",
    "    \"\"\"\n",
    "    input train, validate, test, after using split function()\n",
    "    input target_variable as string\n",
    "    drop_cols formatted as: ['col1', 'col2', 'etc'] for multiple columns\n",
    "        This function will drop all 'object' columns. Identify additional \n",
    "        columns you want to drop and insert 1 column as a string or multiple\n",
    "        columns in a list of strings.\n",
    "    X_train, X_validate, X_test, y_train, y_validate, y_test\n",
    "    \"\"\"\n",
    "    \n",
    "    baseline_accuracy = train[target_variable].value_counts().max() / train[target_variable].value_counts().sum()\n",
    "    print(f'Baseline Accuracy: {baseline_accuracy:.2%}')\n",
    "    \n",
    "    X_train = train.select_dtypes(exclude=['object']).drop(columns=[target_variable]).drop(columns=drop_cols)\n",
    "    X_validate = validate.select_dtypes(exclude=['object']).drop(columns=[target_variable]).drop(columns=drop_cols)\n",
    "    X_test = test.select_dtypes(exclude=['object']).drop(columns=[target_variable]).drop(columns=drop_cols)\n",
    "    \n",
    "    y_train = train[target_variable]\n",
    "    y_validate = validate[target_variable]\n",
    "    y_test = test[target_variable]\n",
    "    \n",
    "    return X_train, X_validate, X_test, y_train, y_validate, y_test"
   ]
  },
  {
   "cell_type": "code",
   "execution_count": 36,
   "id": "e7be4de0-e457-411c-b268-41d61298d8cf",
   "metadata": {},
   "outputs": [],
   "source": [
    "def KNN_accuracy(X_train, y_train, X_validate, y_validate):\n",
    "    \"\"\"\n",
    "   \n",
    "    \"\"\"\n",
    "\n",
    "    knn = KNeighborsClassifier(n_neighbors=5, weights='uniform')\n",
    "    knn.fit(X_train, y_train)\n",
    "    y_pred = knn.predict(X_train)\n",
    "    \n",
    "    print('Confusion Matrix:')\n",
    "    print(confusion_matrix(y_train, y_pred))\n",
    "    plot_confusion_matrix(knn, X_train, y_train)\n",
    "    print(classification_report(y_train, y_pred))\n",
    "    \n",
    "    scores_all = []\n",
    "    for x in range(1,21):\n",
    "        knn = KNeighborsClassifier(n_neighbors=x, weights='uniform')\n",
    "        knn.fit(X_train, y_train)\n",
    "        train_acc = knn.score(X_train, y_train)\n",
    "        val_acc = knn.score(X_validate, y_validate)\n",
    "        scores_all.append([x, train_acc, val_acc])\n",
    "    \n",
    "    scores_df = pd.DataFrame(scores_all, columns=['n_neighbors', 'train_acc', 'val_acc'])\n",
    "    scores_df['difference'] = scores_df.train_acc - scores_df.val_acc\n",
    "    \n",
    "    plt.figure(figsize=(14,6))\n",
    "    plt.plot(scores_df.n_neighbors, scores_df.train_acc, label='train', marker='o')\n",
    "    plt.plot(scores_df.n_neighbors, scores_df.val_acc, label='validate', marker='o')\n",
    "    plt.xlabel('n_neighbors')\n",
    "    plt.ylabel('accuracy')\n",
    "    plt.xticks(np.arange(0,21,1))\n",
    "    plt.title('how does the accuracy change with number of neighbors on train and validate?')\n",
    "    plt.legend()\n",
    "    plt.show()\n",
    "    return scores_df"
   ]
  },
  {
   "cell_type": "code",
   "execution_count": 20,
   "id": "d2794e11-a0bb-4301-b70c-6d7875107059",
   "metadata": {},
   "outputs": [
    {
     "name": "stdout",
     "output_type": "stream",
     "text": [
      "Baseline Accuracy: 61.61%\n"
     ]
    }
   ],
   "source": [
    "X_train, X_validate, X_test, y_train, y_validate, y_test = xy_train_val(train, validate, test, 'survived', 'passenger_id')"
   ]
  },
  {
   "cell_type": "code",
   "execution_count": 37,
   "id": "7baaaeb6-fc67-427a-98f5-ccd47b926789",
   "metadata": {},
   "outputs": [
    {
     "name": "stdout",
     "output_type": "stream",
     "text": [
      "Baseline Accuracy: 61.61%\n",
      "Confusion Matrix:\n",
      "[[280  49]\n",
      " [ 50 155]]\n",
      "              precision    recall  f1-score   support\n",
      "\n",
      "           0       0.85      0.85      0.85       329\n",
      "           1       0.76      0.76      0.76       205\n",
      "\n",
      "    accuracy                           0.81       534\n",
      "   macro avg       0.80      0.80      0.80       534\n",
      "weighted avg       0.81      0.81      0.81       534\n",
      "\n"
     ]
    },
    {
     "data": {
      "image/png": "[encoded data removed]",
      "text/plain": [
       "<Figure size 640x480 with 2 Axes>"
      ]
     },
     "metadata": {},
     "output_type": "display_data"
    },
    {
     "data": {
      "image/png": "[encoded data removed]",
      "text/plain": [
       "<Figure size 1400x600 with 1 Axes>"
      ]
     },
     "metadata": {},
     "output_type": "display_data"
    },
    {
     "data": {
      "text/html": [
       "<div>\n",
       "<style scoped>\n",
       "    .dataframe tbody tr th:only-of-type {\n",
       "        vertical-align: middle;\n",
       "    }\n",
       "\n",
       "    .dataframe tbody tr th {\n",
       "        vertical-align: top;\n",
       "    }\n",
       "\n",
       "    .dataframe thead th {\n",
       "        text-align: right;\n",
       "    }\n",
       "</style>\n",
       "<table border=\"1\" class=\"dataframe\">\n",
       "  <thead>\n",
       "    <tr style=\"text-align: right;\">\n",
       "      <th></th>\n",
       "      <th>n_neighbors</th>\n",
       "      <th>train_acc</th>\n",
       "      <th>val_acc</th>\n",
       "      <th>difference</th>\n",
       "    </tr>\n",
       "  </thead>\n",
       "  <tbody>\n",
       "    <tr>\n",
       "      <th>0</th>\n",
       "      <td>1</td>\n",
       "      <td>0.932584</td>\n",
       "      <td>0.691011</td>\n",
       "      <td>0.241573</td>\n",
       "    </tr>\n",
       "    <tr>\n",
       "      <th>1</th>\n",
       "      <td>2</td>\n",
       "      <td>0.861423</td>\n",
       "      <td>0.724719</td>\n",
       "      <td>0.136704</td>\n",
       "    </tr>\n",
       "    <tr>\n",
       "      <th>2</th>\n",
       "      <td>3</td>\n",
       "      <td>0.852060</td>\n",
       "      <td>0.730337</td>\n",
       "      <td>0.121723</td>\n",
       "    </tr>\n",
       "    <tr>\n",
       "      <th>3</th>\n",
       "      <td>4</td>\n",
       "      <td>0.820225</td>\n",
       "      <td>0.735955</td>\n",
       "      <td>0.084270</td>\n",
       "    </tr>\n",
       "    <tr>\n",
       "      <th>4</th>\n",
       "      <td>5</td>\n",
       "      <td>0.814607</td>\n",
       "      <td>0.730337</td>\n",
       "      <td>0.084270</td>\n",
       "    </tr>\n",
       "    <tr>\n",
       "      <th>5</th>\n",
       "      <td>6</td>\n",
       "      <td>0.799625</td>\n",
       "      <td>0.719101</td>\n",
       "      <td>0.080524</td>\n",
       "    </tr>\n",
       "    <tr>\n",
       "      <th>6</th>\n",
       "      <td>7</td>\n",
       "      <td>0.788390</td>\n",
       "      <td>0.719101</td>\n",
       "      <td>0.069288</td>\n",
       "    </tr>\n",
       "    <tr>\n",
       "      <th>7</th>\n",
       "      <td>8</td>\n",
       "      <td>0.786517</td>\n",
       "      <td>0.730337</td>\n",
       "      <td>0.056180</td>\n",
       "    </tr>\n",
       "    <tr>\n",
       "      <th>8</th>\n",
       "      <td>9</td>\n",
       "      <td>0.792135</td>\n",
       "      <td>0.730337</td>\n",
       "      <td>0.061798</td>\n",
       "    </tr>\n",
       "    <tr>\n",
       "      <th>9</th>\n",
       "      <td>10</td>\n",
       "      <td>0.782772</td>\n",
       "      <td>0.707865</td>\n",
       "      <td>0.074906</td>\n",
       "    </tr>\n",
       "    <tr>\n",
       "      <th>10</th>\n",
       "      <td>11</td>\n",
       "      <td>0.786517</td>\n",
       "      <td>0.719101</td>\n",
       "      <td>0.067416</td>\n",
       "    </tr>\n",
       "    <tr>\n",
       "      <th>11</th>\n",
       "      <td>12</td>\n",
       "      <td>0.777154</td>\n",
       "      <td>0.707865</td>\n",
       "      <td>0.069288</td>\n",
       "    </tr>\n",
       "    <tr>\n",
       "      <th>12</th>\n",
       "      <td>13</td>\n",
       "      <td>0.773408</td>\n",
       "      <td>0.702247</td>\n",
       "      <td>0.071161</td>\n",
       "    </tr>\n",
       "    <tr>\n",
       "      <th>13</th>\n",
       "      <td>14</td>\n",
       "      <td>0.773408</td>\n",
       "      <td>0.685393</td>\n",
       "      <td>0.088015</td>\n",
       "    </tr>\n",
       "    <tr>\n",
       "      <th>14</th>\n",
       "      <td>15</td>\n",
       "      <td>0.773408</td>\n",
       "      <td>0.679775</td>\n",
       "      <td>0.093633</td>\n",
       "    </tr>\n",
       "    <tr>\n",
       "      <th>15</th>\n",
       "      <td>16</td>\n",
       "      <td>0.773408</td>\n",
       "      <td>0.657303</td>\n",
       "      <td>0.116105</td>\n",
       "    </tr>\n",
       "    <tr>\n",
       "      <th>16</th>\n",
       "      <td>17</td>\n",
       "      <td>0.765918</td>\n",
       "      <td>0.646067</td>\n",
       "      <td>0.119850</td>\n",
       "    </tr>\n",
       "    <tr>\n",
       "      <th>17</th>\n",
       "      <td>18</td>\n",
       "      <td>0.760300</td>\n",
       "      <td>0.657303</td>\n",
       "      <td>0.102996</td>\n",
       "    </tr>\n",
       "    <tr>\n",
       "      <th>18</th>\n",
       "      <td>19</td>\n",
       "      <td>0.756554</td>\n",
       "      <td>0.657303</td>\n",
       "      <td>0.099251</td>\n",
       "    </tr>\n",
       "    <tr>\n",
       "      <th>19</th>\n",
       "      <td>20</td>\n",
       "      <td>0.743446</td>\n",
       "      <td>0.662921</td>\n",
       "      <td>0.080524</td>\n",
       "    </tr>\n",
       "  </tbody>\n",
       "</table>\n",
       "</div>"
      ],
      "text/plain": [
       "    n_neighbors  train_acc   val_acc  difference\n",
       "0             1   0.932584  0.691011    0.241573\n",
       "1             2   0.861423  0.724719    0.136704\n",
       "2             3   0.852060  0.730337    0.121723\n",
       "3             4   0.820225  0.735955    0.084270\n",
       "4             5   0.814607  0.730337    0.084270\n",
       "5             6   0.799625  0.719101    0.080524\n",
       "6             7   0.788390  0.719101    0.069288\n",
       "7             8   0.786517  0.730337    0.056180\n",
       "8             9   0.792135  0.730337    0.061798\n",
       "9            10   0.782772  0.707865    0.074906\n",
       "10           11   0.786517  0.719101    0.067416\n",
       "11           12   0.777154  0.707865    0.069288\n",
       "12           13   0.773408  0.702247    0.071161\n",
       "13           14   0.773408  0.685393    0.088015\n",
       "14           15   0.773408  0.679775    0.093633\n",
       "15           16   0.773408  0.657303    0.116105\n",
       "16           17   0.765918  0.646067    0.119850\n",
       "17           18   0.760300  0.657303    0.102996\n",
       "18           19   0.756554  0.657303    0.099251\n",
       "19           20   0.743446  0.662921    0.080524"
      ]
     },
     "execution_count": 37,
     "metadata": {},
     "output_type": "execute_result"
    }
   ],
   "source": [
    "KNN_accuracy(train, validate, test, 'survived', 'passenger_id')"
   ]
  },
  {
   "cell_type": "code",
   "execution_count": null,
   "id": "66b0a574-1b72-40d9-868f-2c7db0bdc9c6",
   "metadata": {},
   "outputs": [],
   "source": []
  },
  {
   "cell_type": "code",
   "execution_count": null,
   "id": "1dfb0e68-15aa-460b-94e3-7d99e46fb50c",
   "metadata": {},
   "outputs": [],
   "source": []
  },
  {
   "cell_type": "code",
   "execution_count": null,
   "id": "85c16cff-2cd3-438c-bf53-ec6bd888a0fb",
   "metadata": {},
   "outputs": [],
   "source": []
  }
 ],
 "metadata": {
  "kernelspec": {
   "display_name": "Python 3 (ipykernel)",
   "language": "python",
   "name": "python3"
  },
  "language_info": {
   "codemirror_mode": {
    "name": "ipython",
    "version": 3
   },
   "file_extension": ".py",
   "mimetype": "text/x-python",
   "name": "python",
   "nbconvert_exporter": "python",
   "pygments_lexer": "ipython3",
   "version": "3.9.13"
  }
 },
 "nbformat": 4,
 "nbformat_minor": 5
}
